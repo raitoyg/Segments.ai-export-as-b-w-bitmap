{
  "nbformat": 4,
  "nbformat_minor": 0,
  "metadata": {
    "colab": {
      "name": "segment_ai_bitmap_export.ipynb",
      "provenance": [],
      "collapsed_sections": [],
      "toc_visible": true,
      "authorship_tag": "ABX9TyN0XiGhp2oAKzlREA2gUS4Z",
      "include_colab_link": true
    },
    "kernelspec": {
      "display_name": "Python 3",
      "name": "python3"
    }
  },
  "cells": [
    {
      "cell_type": "markdown",
      "metadata": {
        "id": "view-in-github",
        "colab_type": "text"
      },
      "source": [
        "<a href=\"https://colab.research.google.com/github/technich214/Segments.ai-export-as-b-w-bitmap/blob/main/segment_ai_bitmap_export.ipynb\" target=\"_parent\"><img src=\"https://colab.research.google.com/assets/colab-badge.svg\" alt=\"Open In Colab\"/></a>"
      ]
    },
    {
      "cell_type": "code",
      "metadata": {
        "colab": {
          "base_uri": "https://localhost:8080/"
        },
        "id": "vc07aySbneV5",
        "outputId": "b616a3cc-e63f-4b60-abea-1345ff8b51d7"
      },
      "source": [
        "!pip install segments-ai --upgrade\r\n",
        "!pip install Pillow"
      ],
      "execution_count": null,
      "outputs": [
        {
          "output_type": "stream",
          "text": [
            "Collecting segments-ai\n",
            "  Downloading https://files.pythonhosted.org/packages/90/83/5faafc6e384621bd13b7c5757a5cd41bb64bcb75c531c8cb48c718f5eb03/segments-ai-0.28.tar.gz\n",
            "Requirement already satisfied, skipping upgrade: numpy in /usr/local/lib/python3.7/dist-packages (from segments-ai) (1.19.5)\n",
            "Requirement already satisfied, skipping upgrade: requests in /usr/local/lib/python3.7/dist-packages (from segments-ai) (2.23.0)\n",
            "Requirement already satisfied, skipping upgrade: pycocotools in /usr/local/lib/python3.7/dist-packages (from segments-ai) (2.0.2)\n",
            "Requirement already satisfied, skipping upgrade: Pillow in /usr/local/lib/python3.7/dist-packages (from segments-ai) (7.0.0)\n",
            "Requirement already satisfied, skipping upgrade: tqdm in /usr/local/lib/python3.7/dist-packages (from segments-ai) (4.41.1)\n",
            "Requirement already satisfied, skipping upgrade: chardet<4,>=3.0.2 in /usr/local/lib/python3.7/dist-packages (from requests->segments-ai) (3.0.4)\n",
            "Requirement already satisfied, skipping upgrade: idna<3,>=2.5 in /usr/local/lib/python3.7/dist-packages (from requests->segments-ai) (2.10)\n",
            "Requirement already satisfied, skipping upgrade: urllib3!=1.25.0,!=1.25.1,<1.26,>=1.21.1 in /usr/local/lib/python3.7/dist-packages (from requests->segments-ai) (1.24.3)\n",
            "Requirement already satisfied, skipping upgrade: certifi>=2017.4.17 in /usr/local/lib/python3.7/dist-packages (from requests->segments-ai) (2020.12.5)\n",
            "Requirement already satisfied, skipping upgrade: matplotlib>=2.1.0 in /usr/local/lib/python3.7/dist-packages (from pycocotools->segments-ai) (3.2.2)\n",
            "Requirement already satisfied, skipping upgrade: setuptools>=18.0 in /usr/local/lib/python3.7/dist-packages (from pycocotools->segments-ai) (53.0.0)\n",
            "Requirement already satisfied, skipping upgrade: cython>=0.27.3 in /usr/local/lib/python3.7/dist-packages (from pycocotools->segments-ai) (0.29.22)\n",
            "Requirement already satisfied, skipping upgrade: python-dateutil>=2.1 in /usr/local/lib/python3.7/dist-packages (from matplotlib>=2.1.0->pycocotools->segments-ai) (2.8.1)\n",
            "Requirement already satisfied, skipping upgrade: pyparsing!=2.0.4,!=2.1.2,!=2.1.6,>=2.0.1 in /usr/local/lib/python3.7/dist-packages (from matplotlib>=2.1.0->pycocotools->segments-ai) (2.4.7)\n",
            "Requirement already satisfied, skipping upgrade: cycler>=0.10 in /usr/local/lib/python3.7/dist-packages (from matplotlib>=2.1.0->pycocotools->segments-ai) (0.10.0)\n",
            "Requirement already satisfied, skipping upgrade: kiwisolver>=1.0.1 in /usr/local/lib/python3.7/dist-packages (from matplotlib>=2.1.0->pycocotools->segments-ai) (1.3.1)\n",
            "Requirement already satisfied, skipping upgrade: six>=1.5 in /usr/local/lib/python3.7/dist-packages (from python-dateutil>=2.1->matplotlib>=2.1.0->pycocotools->segments-ai) (1.15.0)\n",
            "Building wheels for collected packages: segments-ai\n",
            "  Building wheel for segments-ai (setup.py) ... \u001b[?25l\u001b[?25hdone\n",
            "  Created wheel for segments-ai: filename=segments_ai-0.28-cp37-none-any.whl size=11582 sha256=1b697d5df10afd278d4c10a749fe13bbe2d03673f3d3b373a3192bdd310ba439\n",
            "  Stored in directory: /root/.cache/pip/wheels/c6/0c/da/632e4162ac82aeb6f952eab69a2216023d68f252d8b0abda84\n",
            "Successfully built segments-ai\n",
            "Installing collected packages: segments-ai\n",
            "Successfully installed segments-ai-0.28\n",
            "Requirement already satisfied: Pillow in /usr/local/lib/python3.7/dist-packages (7.0.0)\n"
          ],
          "name": "stdout"
        }
      ]
    },
    {
      "cell_type": "code",
      "metadata": {
        "id": "gzf1ef98MNqF"
      },
      "source": [
        "!zip -r 21.zip 21"
      ],
      "execution_count": null,
      "outputs": []
    },
    {
      "cell_type": "code",
      "metadata": {
        "colab": {
          "base_uri": "https://localhost:8080/",
          "height": 16
        },
        "id": "g91Z5b2AOkOU",
        "outputId": "daac57ec-f619-4aac-f4c2-09739136ccbb"
      },
      "source": [
        "from google.colab import files\r\n",
        "files.download('21.zip') "
      ],
      "execution_count": null,
      "outputs": [
        {
          "output_type": "display_data",
          "data": {
            "application/javascript": [
              "\n",
              "    async function download(id, filename, size) {\n",
              "      if (!google.colab.kernel.accessAllowed) {\n",
              "        return;\n",
              "      }\n",
              "      const div = document.createElement('div');\n",
              "      const label = document.createElement('label');\n",
              "      label.textContent = `Downloading \"${filename}\": `;\n",
              "      div.appendChild(label);\n",
              "      const progress = document.createElement('progress');\n",
              "      progress.max = size;\n",
              "      div.appendChild(progress);\n",
              "      document.body.appendChild(div);\n",
              "\n",
              "      const buffers = [];\n",
              "      let downloaded = 0;\n",
              "\n",
              "      const channel = await google.colab.kernel.comms.open(id);\n",
              "      // Send a message to notify the kernel that we're ready.\n",
              "      channel.send({})\n",
              "\n",
              "      for await (const message of channel.messages) {\n",
              "        // Send a message to notify the kernel that we're ready.\n",
              "        channel.send({})\n",
              "        if (message.buffers) {\n",
              "          for (const buffer of message.buffers) {\n",
              "            buffers.push(buffer);\n",
              "            downloaded += buffer.byteLength;\n",
              "            progress.value = downloaded;\n",
              "          }\n",
              "        }\n",
              "      }\n",
              "      const blob = new Blob(buffers, {type: 'application/binary'});\n",
              "      const a = document.createElement('a');\n",
              "      a.href = window.URL.createObjectURL(blob);\n",
              "      a.download = filename;\n",
              "      div.appendChild(a);\n",
              "      a.click();\n",
              "      div.remove();\n",
              "    }\n",
              "  "
            ],
            "text/plain": [
              "<IPython.core.display.Javascript object>"
            ]
          },
          "metadata": {
            "tags": []
          }
        },
        {
          "output_type": "display_data",
          "data": {
            "application/javascript": [
              "download(\"download_17b98eeb-c10c-436e-8374-2d94dbcc9914\", \"21.zip\", 110666570)"
            ],
            "text/plain": [
              "<IPython.core.display.Javascript object>"
            ]
          },
          "metadata": {
            "tags": []
          }
        }
      ]
    },
    {
      "cell_type": "code",
      "metadata": {
        "id": "egcRSB3zgpeM"
      },
      "source": [
        "!rm -r test2-test"
      ],
      "execution_count": null,
      "outputs": []
    },
    {
      "cell_type": "code",
      "metadata": {
        "id": "-N9wTjuPWLJy",
        "colab": {
          "base_uri": "https://localhost:8080/",
          "height": 345
        },
        "outputId": "90ef9647-4c9d-43d6-efd6-d4b8aef77d21"
      },
      "source": [
        "from segments import SegmentsDataset\r\n",
        "from segments.utils import export_dataset\r\n",
        "import os\r\n",
        "# Initialize a SegmentsDataset from the release file\r\n",
        "\r\n",
        "gesture=\"21\"\r\n",
        "os.makedirs(gesture+\"/images\",exist_ok=True)\r\n",
        "os.makedirs(gesture+\"/bitmaps\",exist_ok=True)\r\n",
        "release_file = gesture+\".json\"\r\n",
        "\r\n",
        "dataset = SegmentsDataset(release_file, labelset='ground-truth', filter_by=['labeled', 'reviewed'])\r\n",
        "\r\n"
      ],
      "execution_count": null,
      "outputs": [
        {
          "output_type": "error",
          "ename": "FileNotFoundError",
          "evalue": "ignored",
          "traceback": [
            "\u001b[0;31m---------------------------------------------------------------------------\u001b[0m",
            "\u001b[0;31mFileNotFoundError\u001b[0m                         Traceback (most recent call last)",
            "\u001b[0;32m<ipython-input-3-32a444637125>\u001b[0m in \u001b[0;36m<module>\u001b[0;34m()\u001b[0m\n\u001b[1;32m      9\u001b[0m \u001b[0mrelease_file\u001b[0m \u001b[0;34m=\u001b[0m \u001b[0mgesture\u001b[0m\u001b[0;34m+\u001b[0m\u001b[0;34m\".json\"\u001b[0m\u001b[0;34m\u001b[0m\u001b[0;34m\u001b[0m\u001b[0m\n\u001b[1;32m     10\u001b[0m \u001b[0;34m\u001b[0m\u001b[0m\n\u001b[0;32m---> 11\u001b[0;31m \u001b[0mdataset\u001b[0m \u001b[0;34m=\u001b[0m \u001b[0mSegmentsDataset\u001b[0m\u001b[0;34m(\u001b[0m\u001b[0mrelease_file\u001b[0m\u001b[0;34m,\u001b[0m \u001b[0mlabelset\u001b[0m\u001b[0;34m=\u001b[0m\u001b[0;34m'ground-truth'\u001b[0m\u001b[0;34m,\u001b[0m \u001b[0mfilter_by\u001b[0m\u001b[0;34m=\u001b[0m\u001b[0;34m[\u001b[0m\u001b[0;34m'labeled'\u001b[0m\u001b[0;34m,\u001b[0m \u001b[0;34m'reviewed'\u001b[0m\u001b[0;34m]\u001b[0m\u001b[0;34m)\u001b[0m\u001b[0;34m\u001b[0m\u001b[0;34m\u001b[0m\u001b[0m\n\u001b[0m\u001b[1;32m     12\u001b[0m \u001b[0;34m\u001b[0m\u001b[0m\n",
            "\u001b[0;32m/usr/local/lib/python3.7/dist-packages/segments/dataset.py\u001b[0m in \u001b[0;36m__init__\u001b[0;34m(self, release_file, labelset, filter_by, segments_dir)\u001b[0m\n\u001b[1;32m     31\u001b[0m         \u001b[0;31m# if urlparse(release_file).scheme in ('http', 'https'): # If it's a url\u001b[0m\u001b[0;34m\u001b[0m\u001b[0;34m\u001b[0m\u001b[0;34m\u001b[0m\u001b[0m\n\u001b[1;32m     32\u001b[0m         \u001b[0;32mif\u001b[0m \u001b[0misinstance\u001b[0m\u001b[0;34m(\u001b[0m\u001b[0mrelease_file\u001b[0m\u001b[0;34m,\u001b[0m \u001b[0mstr\u001b[0m\u001b[0;34m)\u001b[0m\u001b[0;34m:\u001b[0m \u001b[0;31m# If it's a file path\u001b[0m\u001b[0;34m\u001b[0m\u001b[0;34m\u001b[0m\u001b[0m\n\u001b[0;32m---> 33\u001b[0;31m             \u001b[0;32mwith\u001b[0m \u001b[0mopen\u001b[0m\u001b[0;34m(\u001b[0m\u001b[0mrelease_file\u001b[0m\u001b[0;34m)\u001b[0m \u001b[0;32mas\u001b[0m \u001b[0mf\u001b[0m\u001b[0;34m:\u001b[0m\u001b[0;34m\u001b[0m\u001b[0;34m\u001b[0m\u001b[0m\n\u001b[0m\u001b[1;32m     34\u001b[0m                 \u001b[0mself\u001b[0m\u001b[0;34m.\u001b[0m\u001b[0mrelease\u001b[0m \u001b[0;34m=\u001b[0m \u001b[0mjson\u001b[0m\u001b[0;34m.\u001b[0m\u001b[0mload\u001b[0m\u001b[0;34m(\u001b[0m\u001b[0mf\u001b[0m\u001b[0;34m)\u001b[0m\u001b[0;34m\u001b[0m\u001b[0;34m\u001b[0m\u001b[0m\n\u001b[1;32m     35\u001b[0m         \u001b[0;32melse\u001b[0m\u001b[0;34m:\u001b[0m \u001b[0;31m# If it's a release object\u001b[0m\u001b[0;34m\u001b[0m\u001b[0;34m\u001b[0m\u001b[0m\n",
            "\u001b[0;31mFileNotFoundError\u001b[0m: [Errno 2] No such file or directory: '21.json'"
          ]
        }
      ]
    },
    {
      "cell_type": "code",
      "metadata": {
        "id": "GWlrZfM1wTzB"
      },
      "source": [
        "import matplotlib.pyplot as plt\r\n",
        "from segments.utils import get_semantic_bitmap\r\n",
        "from PIL import Image\r\n",
        "from matplotlib import cm\r\n",
        "\r\n",
        "for sample in dataset:\r\n",
        "    # Print the sample name and list of labeled objects\r\n",
        "    print(sample['name'])\r\n",
        "    print(sample['annotations'])\r\n",
        "\r\n",
        "    #Striping path name\r\n",
        "    img_name=os.path.splitext(sample['name'])[0]\r\n",
        "    print(img_name)\r\n",
        "    # Show the image\r\n",
        "\r\n",
        "    plt.imshow(sample['image'])\r\n",
        "    sample['image'].save(gesture+\"/images/\"+img_name+\".jpg\")\r\n",
        "    plt.show()\r\n",
        "    \r\n",
        "    # Show the semantic segmentation label\r\n",
        "    semantic_bitmap = get_semantic_bitmap(sample['segmentation_bitmap'], sample['annotations'])\r\n",
        "    rescaled = (255.0 / semantic_bitmap.max() * (semantic_bitmap - semantic_bitmap.min())).astype(np.uint8)\r\n",
        "    bm = Image.fromarray(rescaled)\r\n",
        "    os.makedirs(gesture+\"/bitmaps/\"+img_name,exist_ok=True)\r\n",
        "    os.makedirs(gesture+\"/bitmaps/\"+img_name+\"/1\",exist_ok=True)\r\n",
        "    bm.save(gesture+\"/bitmaps/\"+img_name+\"/1/\"+\"1.jpg\") "
      ],
      "execution_count": null,
      "outputs": []
    },
    {
      "cell_type": "markdown",
      "metadata": {
        "id": "z4q7dkvjJtwZ"
      },
      "source": [
        "# New Section"
      ]
    }
  ]
}